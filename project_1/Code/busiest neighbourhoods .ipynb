{
 "cells": [
  {
   "cell_type": "markdown",
   "metadata": {},
   "source": [
    "In this notebook we will explore the airbnb seattle data and try to answer the following questions 1-the visitors favourite neighbourhood in Seattle is? 2-what kind of property that visitors mostly look for? But first lets import the libraries we will use and explore our datasets"
   ]
  },
  {
   "cell_type": "code",
   "execution_count": 333,
   "metadata": {},
   "outputs": [],
   "source": [
    "import numpy as np\n",
    "import pandas as pd\n",
    "import matplotlib.pyplot as plt\n",
    "from sklearn.linear_model import LinearRegression\n",
    "from sklearn.model_selection import train_test_split\n",
    "from sklearn.metrics import r2_score, mean_squared_error\n",
    "import seaborn as sns\n",
    "%matplotlib inline\n",
    "\n",
    "df_cal = pd.read_csv('./calendar.csv')\n",
    "df_listing = pd.read_csv('./listings.csv')\n",
    "df_review = pd.read_csv('./reviews.csv')"
   ]
  },
  {
   "cell_type": "code",
   "execution_count": 334,
   "metadata": {
    "scrolled": true
   },
   "outputs": [
    {
     "data": {
      "text/html": [
       "<div>\n",
       "<style scoped>\n",
       "    .dataframe tbody tr th:only-of-type {\n",
       "        vertical-align: middle;\n",
       "    }\n",
       "\n",
       "    .dataframe tbody tr th {\n",
       "        vertical-align: top;\n",
       "    }\n",
       "\n",
       "    .dataframe thead th {\n",
       "        text-align: right;\n",
       "    }\n",
       "</style>\n",
       "<table border=\"1\" class=\"dataframe\">\n",
       "  <thead>\n",
       "    <tr style=\"text-align: right;\">\n",
       "      <th></th>\n",
       "      <th>id</th>\n",
       "      <th>listing_url</th>\n",
       "      <th>scrape_id</th>\n",
       "      <th>last_scraped</th>\n",
       "      <th>name</th>\n",
       "      <th>summary</th>\n",
       "      <th>space</th>\n",
       "      <th>description</th>\n",
       "      <th>experiences_offered</th>\n",
       "      <th>neighborhood_overview</th>\n",
       "      <th>...</th>\n",
       "      <th>review_scores_value</th>\n",
       "      <th>requires_license</th>\n",
       "      <th>license</th>\n",
       "      <th>jurisdiction_names</th>\n",
       "      <th>instant_bookable</th>\n",
       "      <th>cancellation_policy</th>\n",
       "      <th>require_guest_profile_picture</th>\n",
       "      <th>require_guest_phone_verification</th>\n",
       "      <th>calculated_host_listings_count</th>\n",
       "      <th>reviews_per_month</th>\n",
       "    </tr>\n",
       "  </thead>\n",
       "  <tbody>\n",
       "    <tr>\n",
       "      <th>0</th>\n",
       "      <td>241032</td>\n",
       "      <td>https://www.airbnb.com/rooms/241032</td>\n",
       "      <td>20160104002432</td>\n",
       "      <td>2016-01-04</td>\n",
       "      <td>Stylish Queen Anne Apartment</td>\n",
       "      <td>NaN</td>\n",
       "      <td>Make your self at home in this charming one-be...</td>\n",
       "      <td>Make your self at home in this charming one-be...</td>\n",
       "      <td>none</td>\n",
       "      <td>NaN</td>\n",
       "      <td>...</td>\n",
       "      <td>10.0</td>\n",
       "      <td>f</td>\n",
       "      <td>NaN</td>\n",
       "      <td>WASHINGTON</td>\n",
       "      <td>f</td>\n",
       "      <td>moderate</td>\n",
       "      <td>f</td>\n",
       "      <td>f</td>\n",
       "      <td>2</td>\n",
       "      <td>4.07</td>\n",
       "    </tr>\n",
       "    <tr>\n",
       "      <th>1</th>\n",
       "      <td>953595</td>\n",
       "      <td>https://www.airbnb.com/rooms/953595</td>\n",
       "      <td>20160104002432</td>\n",
       "      <td>2016-01-04</td>\n",
       "      <td>Bright &amp; Airy Queen Anne Apartment</td>\n",
       "      <td>Chemically sensitive? We've removed the irrita...</td>\n",
       "      <td>Beautiful, hypoallergenic apartment in an extr...</td>\n",
       "      <td>Chemically sensitive? We've removed the irrita...</td>\n",
       "      <td>none</td>\n",
       "      <td>Queen Anne is a wonderful, truly functional vi...</td>\n",
       "      <td>...</td>\n",
       "      <td>10.0</td>\n",
       "      <td>f</td>\n",
       "      <td>NaN</td>\n",
       "      <td>WASHINGTON</td>\n",
       "      <td>f</td>\n",
       "      <td>strict</td>\n",
       "      <td>t</td>\n",
       "      <td>t</td>\n",
       "      <td>6</td>\n",
       "      <td>1.48</td>\n",
       "    </tr>\n",
       "    <tr>\n",
       "      <th>2</th>\n",
       "      <td>3308979</td>\n",
       "      <td>https://www.airbnb.com/rooms/3308979</td>\n",
       "      <td>20160104002432</td>\n",
       "      <td>2016-01-04</td>\n",
       "      <td>New Modern House-Amazing water view</td>\n",
       "      <td>New modern house built in 2013.  Spectacular s...</td>\n",
       "      <td>Our house is modern, light and fresh with a wa...</td>\n",
       "      <td>New modern house built in 2013.  Spectacular s...</td>\n",
       "      <td>none</td>\n",
       "      <td>Upper Queen Anne is a charming neighborhood fu...</td>\n",
       "      <td>...</td>\n",
       "      <td>10.0</td>\n",
       "      <td>f</td>\n",
       "      <td>NaN</td>\n",
       "      <td>WASHINGTON</td>\n",
       "      <td>f</td>\n",
       "      <td>strict</td>\n",
       "      <td>f</td>\n",
       "      <td>f</td>\n",
       "      <td>2</td>\n",
       "      <td>1.15</td>\n",
       "    </tr>\n",
       "    <tr>\n",
       "      <th>3</th>\n",
       "      <td>7421966</td>\n",
       "      <td>https://www.airbnb.com/rooms/7421966</td>\n",
       "      <td>20160104002432</td>\n",
       "      <td>2016-01-04</td>\n",
       "      <td>Queen Anne Chateau</td>\n",
       "      <td>A charming apartment that sits atop Queen Anne...</td>\n",
       "      <td>NaN</td>\n",
       "      <td>A charming apartment that sits atop Queen Anne...</td>\n",
       "      <td>none</td>\n",
       "      <td>NaN</td>\n",
       "      <td>...</td>\n",
       "      <td>NaN</td>\n",
       "      <td>f</td>\n",
       "      <td>NaN</td>\n",
       "      <td>WASHINGTON</td>\n",
       "      <td>f</td>\n",
       "      <td>flexible</td>\n",
       "      <td>f</td>\n",
       "      <td>f</td>\n",
       "      <td>1</td>\n",
       "      <td>NaN</td>\n",
       "    </tr>\n",
       "    <tr>\n",
       "      <th>4</th>\n",
       "      <td>278830</td>\n",
       "      <td>https://www.airbnb.com/rooms/278830</td>\n",
       "      <td>20160104002432</td>\n",
       "      <td>2016-01-04</td>\n",
       "      <td>Charming craftsman 3 bdm house</td>\n",
       "      <td>Cozy family craftman house in beautiful neighb...</td>\n",
       "      <td>Cozy family craftman house in beautiful neighb...</td>\n",
       "      <td>Cozy family craftman house in beautiful neighb...</td>\n",
       "      <td>none</td>\n",
       "      <td>We are in the beautiful neighborhood of Queen ...</td>\n",
       "      <td>...</td>\n",
       "      <td>9.0</td>\n",
       "      <td>f</td>\n",
       "      <td>NaN</td>\n",
       "      <td>WASHINGTON</td>\n",
       "      <td>f</td>\n",
       "      <td>strict</td>\n",
       "      <td>f</td>\n",
       "      <td>f</td>\n",
       "      <td>1</td>\n",
       "      <td>0.89</td>\n",
       "    </tr>\n",
       "  </tbody>\n",
       "</table>\n",
       "<p>5 rows × 92 columns</p>\n",
       "</div>"
      ],
      "text/plain": [
       "        id                           listing_url       scrape_id last_scraped  \\\n",
       "0   241032   https://www.airbnb.com/rooms/241032  20160104002432   2016-01-04   \n",
       "1   953595   https://www.airbnb.com/rooms/953595  20160104002432   2016-01-04   \n",
       "2  3308979  https://www.airbnb.com/rooms/3308979  20160104002432   2016-01-04   \n",
       "3  7421966  https://www.airbnb.com/rooms/7421966  20160104002432   2016-01-04   \n",
       "4   278830   https://www.airbnb.com/rooms/278830  20160104002432   2016-01-04   \n",
       "\n",
       "                                  name  \\\n",
       "0         Stylish Queen Anne Apartment   \n",
       "1   Bright & Airy Queen Anne Apartment   \n",
       "2  New Modern House-Amazing water view   \n",
       "3                   Queen Anne Chateau   \n",
       "4       Charming craftsman 3 bdm house   \n",
       "\n",
       "                                             summary  \\\n",
       "0                                                NaN   \n",
       "1  Chemically sensitive? We've removed the irrita...   \n",
       "2  New modern house built in 2013.  Spectacular s...   \n",
       "3  A charming apartment that sits atop Queen Anne...   \n",
       "4  Cozy family craftman house in beautiful neighb...   \n",
       "\n",
       "                                               space  \\\n",
       "0  Make your self at home in this charming one-be...   \n",
       "1  Beautiful, hypoallergenic apartment in an extr...   \n",
       "2  Our house is modern, light and fresh with a wa...   \n",
       "3                                                NaN   \n",
       "4  Cozy family craftman house in beautiful neighb...   \n",
       "\n",
       "                                         description experiences_offered  \\\n",
       "0  Make your self at home in this charming one-be...                none   \n",
       "1  Chemically sensitive? We've removed the irrita...                none   \n",
       "2  New modern house built in 2013.  Spectacular s...                none   \n",
       "3  A charming apartment that sits atop Queen Anne...                none   \n",
       "4  Cozy family craftman house in beautiful neighb...                none   \n",
       "\n",
       "                               neighborhood_overview  ... review_scores_value  \\\n",
       "0                                                NaN  ...                10.0   \n",
       "1  Queen Anne is a wonderful, truly functional vi...  ...                10.0   \n",
       "2  Upper Queen Anne is a charming neighborhood fu...  ...                10.0   \n",
       "3                                                NaN  ...                 NaN   \n",
       "4  We are in the beautiful neighborhood of Queen ...  ...                 9.0   \n",
       "\n",
       "  requires_license license jurisdiction_names instant_bookable  \\\n",
       "0                f     NaN         WASHINGTON                f   \n",
       "1                f     NaN         WASHINGTON                f   \n",
       "2                f     NaN         WASHINGTON                f   \n",
       "3                f     NaN         WASHINGTON                f   \n",
       "4                f     NaN         WASHINGTON                f   \n",
       "\n",
       "  cancellation_policy  require_guest_profile_picture  \\\n",
       "0            moderate                              f   \n",
       "1              strict                              t   \n",
       "2              strict                              f   \n",
       "3            flexible                              f   \n",
       "4              strict                              f   \n",
       "\n",
       "  require_guest_phone_verification calculated_host_listings_count  \\\n",
       "0                                f                              2   \n",
       "1                                t                              6   \n",
       "2                                f                              2   \n",
       "3                                f                              1   \n",
       "4                                f                              1   \n",
       "\n",
       "  reviews_per_month  \n",
       "0              4.07  \n",
       "1              1.48  \n",
       "2              1.15  \n",
       "3               NaN  \n",
       "4              0.89  \n",
       "\n",
       "[5 rows x 92 columns]"
      ]
     },
     "execution_count": 334,
     "metadata": {},
     "output_type": "execute_result"
    }
   ],
   "source": [
    "df_listing.head()"
   ]
  },
  {
   "cell_type": "code",
   "execution_count": 335,
   "metadata": {},
   "outputs": [
    {
     "data": {
      "text/plain": [
       "House              1733\n",
       "Apartment          1708\n",
       "Townhouse           118\n",
       "Condominium          91\n",
       "Loft                 40\n",
       "Bed & Breakfast      37\n",
       "Other                22\n",
       "Cabin                21\n",
       "Camper/RV            13\n",
       "Bungalow             13\n",
       "Boat                  8\n",
       "Tent                  5\n",
       "Treehouse             3\n",
       "Chalet                2\n",
       "Dorm                  2\n",
       "Yurt                  1\n",
       "Name: property_type, dtype: int64"
      ]
     },
     "execution_count": 335,
     "metadata": {},
     "output_type": "execute_result"
    }
   ],
   "source": [
    "property_vals = df_listing.property_type.value_counts()\n",
    "property_vals"
   ]
  },
  {
   "cell_type": "code",
   "execution_count": 336,
   "metadata": {},
   "outputs": [
    {
     "data": {
      "text/plain": [
       "neighbourhood_group_cleansed\n",
       "Interbay                11\n",
       "Seward Park             44\n",
       "Magnolia                61\n",
       "Lake City               67\n",
       "Delridge                79\n",
       "Northgate               80\n",
       "Cascade                 89\n",
       "Beacon Hill            118\n",
       "University District    122\n",
       "Rainier Valley         159\n",
       "West Seattle           203\n",
       "Ballard                230\n",
       "Queen Anne             295\n",
       "Central Area           369\n",
       "Downtown               530\n",
       "Capitol Hill           567\n",
       "Other neighborhoods    794\n",
       "Name: number_of_reviews, dtype: int64"
      ]
     },
     "execution_count": 336,
     "metadata": {},
     "output_type": "execute_result"
    }
   ],
   "source": [
    "df_listing.groupby(['neighbourhood_group_cleansed']).count()['number_of_reviews'].sort_values()"
   ]
  },
  {
   "cell_type": "code",
   "execution_count": 337,
   "metadata": {},
   "outputs": [
    {
     "data": {
      "text/plain": [
       "neighbourhood_group_cleansed\n",
       "Rainier Valley         9.052239\n",
       "Beacon Hill            9.097087\n",
       "Interbay               9.111111\n",
       "Delridge               9.200000\n",
       "University District    9.252632\n",
       "Lake City              9.267857\n",
       "Seward Park            9.282051\n",
       "Northgate              9.353846\n",
       "Central Area           9.489028\n",
       "Cascade                9.569231\n",
       "Magnolia               9.617021\n",
       "Other neighborhoods    9.637481\n",
       "Queen Anne             9.751020\n",
       "West Seattle           9.765432\n",
       "Ballard                9.766839\n",
       "Downtown               9.769737\n",
       "Capitol Hill           9.823529\n",
       "Name: review_scores_location, dtype: float64"
      ]
     },
     "execution_count": 337,
     "metadata": {},
     "output_type": "execute_result"
    }
   ],
   "source": [
    "df_listing.groupby(['neighbourhood_group_cleansed']).mean()['review_scores_location'].sort_values()"
   ]
  },
  {
   "cell_type": "markdown",
   "metadata": {},
   "source": [
    "Here we will start by answering the first question: Visitors favourite neighbourhood is?\n",
    "I'll just use listings dataset"
   ]
  },
  {
   "cell_type": "code",
   "execution_count": 338,
   "metadata": {},
   "outputs": [
    {
     "data": {
      "text/html": [
       "<div>\n",
       "<style scoped>\n",
       "    .dataframe tbody tr th:only-of-type {\n",
       "        vertical-align: middle;\n",
       "    }\n",
       "\n",
       "    .dataframe tbody tr th {\n",
       "        vertical-align: top;\n",
       "    }\n",
       "\n",
       "    .dataframe thead th {\n",
       "        text-align: right;\n",
       "    }\n",
       "</style>\n",
       "<table border=\"1\" class=\"dataframe\">\n",
       "  <thead>\n",
       "    <tr style=\"text-align: right;\">\n",
       "      <th></th>\n",
       "      <th>neighbourhood_group_cleansed</th>\n",
       "      <th>number_of_reviews</th>\n",
       "      <th>property_type</th>\n",
       "      <th>price</th>\n",
       "    </tr>\n",
       "  </thead>\n",
       "  <tbody>\n",
       "    <tr>\n",
       "      <th>0</th>\n",
       "      <td>Queen Anne</td>\n",
       "      <td>207</td>\n",
       "      <td>Apartment</td>\n",
       "      <td>$85.00</td>\n",
       "    </tr>\n",
       "    <tr>\n",
       "      <th>1</th>\n",
       "      <td>Queen Anne</td>\n",
       "      <td>43</td>\n",
       "      <td>Apartment</td>\n",
       "      <td>$150.00</td>\n",
       "    </tr>\n",
       "    <tr>\n",
       "      <th>2</th>\n",
       "      <td>Queen Anne</td>\n",
       "      <td>20</td>\n",
       "      <td>House</td>\n",
       "      <td>$975.00</td>\n",
       "    </tr>\n",
       "    <tr>\n",
       "      <th>3</th>\n",
       "      <td>Queen Anne</td>\n",
       "      <td>0</td>\n",
       "      <td>Apartment</td>\n",
       "      <td>$100.00</td>\n",
       "    </tr>\n",
       "    <tr>\n",
       "      <th>4</th>\n",
       "      <td>Queen Anne</td>\n",
       "      <td>38</td>\n",
       "      <td>House</td>\n",
       "      <td>$450.00</td>\n",
       "    </tr>\n",
       "    <tr>\n",
       "      <th>...</th>\n",
       "      <td>...</td>\n",
       "      <td>...</td>\n",
       "      <td>...</td>\n",
       "      <td>...</td>\n",
       "    </tr>\n",
       "    <tr>\n",
       "      <th>3813</th>\n",
       "      <td>Other neighborhoods</td>\n",
       "      <td>1</td>\n",
       "      <td>House</td>\n",
       "      <td>$359.00</td>\n",
       "    </tr>\n",
       "    <tr>\n",
       "      <th>3814</th>\n",
       "      <td>Capitol Hill</td>\n",
       "      <td>2</td>\n",
       "      <td>Apartment</td>\n",
       "      <td>$79.00</td>\n",
       "    </tr>\n",
       "    <tr>\n",
       "      <th>3815</th>\n",
       "      <td>Rainier Valley</td>\n",
       "      <td>0</td>\n",
       "      <td>House</td>\n",
       "      <td>$93.00</td>\n",
       "    </tr>\n",
       "    <tr>\n",
       "      <th>3816</th>\n",
       "      <td>Capitol Hill</td>\n",
       "      <td>0</td>\n",
       "      <td>Condominium</td>\n",
       "      <td>$99.00</td>\n",
       "    </tr>\n",
       "    <tr>\n",
       "      <th>3817</th>\n",
       "      <td>Queen Anne</td>\n",
       "      <td>0</td>\n",
       "      <td>Apartment</td>\n",
       "      <td>$87.00</td>\n",
       "    </tr>\n",
       "  </tbody>\n",
       "</table>\n",
       "<p>3818 rows × 4 columns</p>\n",
       "</div>"
      ],
      "text/plain": [
       "     neighbourhood_group_cleansed  number_of_reviews property_type    price\n",
       "0                      Queen Anne                207     Apartment   $85.00\n",
       "1                      Queen Anne                 43     Apartment  $150.00\n",
       "2                      Queen Anne                 20         House  $975.00\n",
       "3                      Queen Anne                  0     Apartment  $100.00\n",
       "4                      Queen Anne                 38         House  $450.00\n",
       "...                           ...                ...           ...      ...\n",
       "3813          Other neighborhoods                  1         House  $359.00\n",
       "3814                 Capitol Hill                  2     Apartment   $79.00\n",
       "3815               Rainier Valley                  0         House   $93.00\n",
       "3816                 Capitol Hill                  0   Condominium   $99.00\n",
       "3817                   Queen Anne                  0     Apartment   $87.00\n",
       "\n",
       "[3818 rows x 4 columns]"
      ]
     },
     "execution_count": 338,
     "metadata": {},
     "output_type": "execute_result"
    }
   ],
   "source": [
    "#Preparing the data\n",
    "\n",
    "#dropping all the columns I don't need\n",
    "df= df_listing[['neighbourhood_group_cleansed','number_of_reviews','property_type','price']]\n",
    "df"
   ]
  },
  {
   "cell_type": "code",
   "execution_count": 339,
   "metadata": {},
   "outputs": [
    {
     "data": {
      "text/plain": [
       "{'neighbourhood_group_cleansed', 'number_of_reviews', 'price'}"
      ]
     },
     "execution_count": 339,
     "metadata": {},
     "output_type": "execute_result"
    }
   ],
   "source": [
    "#checking if there is no missing values\n",
    "no_nulls = set(df.columns[df.isnull().mean()==0])\n",
    "no_nulls # there a column containg missing values(property_type) so will drop them"
   ]
  },
  {
   "cell_type": "code",
   "execution_count": 340,
   "metadata": {},
   "outputs": [],
   "source": [
    "#also the price column datatype needs changing so we can perform calculations\n",
    "#so a function to change the datatype of a currency from object(as there is a currency symbol therefor considered a string) to float so operations could be done on it\n",
    "def clean_currency(x):\n",
    "    \"\"\" If the value is a string, then remove currency symbol and delimiters\n",
    "    otherwise, the value is numeric and can be converted\n",
    "    \"\"\"\n",
    "    if isinstance(x, str):\n",
    "        return(x.replace('$', '').replace(',', ''))\n",
    "    return(x)\n"
   ]
  },
  {
   "cell_type": "code",
   "execution_count": 341,
   "metadata": {},
   "outputs": [
    {
     "name": "stderr",
     "output_type": "stream",
     "text": [
      "<ipython-input-341-ebb15e8be33c>:1: SettingWithCopyWarning: \n",
      "A value is trying to be set on a copy of a slice from a DataFrame.\n",
      "Try using .loc[row_indexer,col_indexer] = value instead\n",
      "\n",
      "See the caveats in the documentation: https://pandas.pydata.org/pandas-docs/stable/user_guide/indexing.html#returning-a-view-versus-a-copy\n",
      "  df['price'] = df['price'].apply(clean_currency).astype('float')\n"
     ]
    },
    {
     "data": {
      "text/plain": [
       "dtype('float64')"
      ]
     },
     "execution_count": 341,
     "metadata": {},
     "output_type": "execute_result"
    }
   ],
   "source": [
    "df['price'] = df['price'].apply(clean_currency).astype('float')\n",
    "df['price'].dtype"
   ]
  },
  {
   "cell_type": "code",
   "execution_count": 343,
   "metadata": {},
   "outputs": [],
   "source": [
    "#dropping rows with missing property type\n",
    "drop_prop_df = df.dropna(subset=['property_type'], axis=0)"
   ]
  },
  {
   "cell_type": "code",
   "execution_count": 345,
   "metadata": {
    "scrolled": false
   },
   "outputs": [
    {
     "data": {
      "text/html": [
       "<div>\n",
       "<style scoped>\n",
       "    .dataframe tbody tr th:only-of-type {\n",
       "        vertical-align: middle;\n",
       "    }\n",
       "\n",
       "    .dataframe tbody tr th {\n",
       "        vertical-align: top;\n",
       "    }\n",
       "\n",
       "    .dataframe thead th {\n",
       "        text-align: right;\n",
       "    }\n",
       "</style>\n",
       "<table border=\"1\" class=\"dataframe\">\n",
       "  <thead>\n",
       "    <tr style=\"text-align: right;\">\n",
       "      <th></th>\n",
       "      <th>neighbourhood_group_cleansed</th>\n",
       "      <th>number_of_reviews</th>\n",
       "      <th>property_type</th>\n",
       "      <th>price</th>\n",
       "    </tr>\n",
       "  </thead>\n",
       "  <tbody>\n",
       "    <tr>\n",
       "      <th>0</th>\n",
       "      <td>Queen Anne</td>\n",
       "      <td>207</td>\n",
       "      <td>Apartment</td>\n",
       "      <td>85.0</td>\n",
       "    </tr>\n",
       "    <tr>\n",
       "      <th>1</th>\n",
       "      <td>Queen Anne</td>\n",
       "      <td>43</td>\n",
       "      <td>Apartment</td>\n",
       "      <td>150.0</td>\n",
       "    </tr>\n",
       "    <tr>\n",
       "      <th>2</th>\n",
       "      <td>Queen Anne</td>\n",
       "      <td>20</td>\n",
       "      <td>House</td>\n",
       "      <td>975.0</td>\n",
       "    </tr>\n",
       "    <tr>\n",
       "      <th>3</th>\n",
       "      <td>Queen Anne</td>\n",
       "      <td>0</td>\n",
       "      <td>Apartment</td>\n",
       "      <td>100.0</td>\n",
       "    </tr>\n",
       "    <tr>\n",
       "      <th>4</th>\n",
       "      <td>Queen Anne</td>\n",
       "      <td>38</td>\n",
       "      <td>House</td>\n",
       "      <td>450.0</td>\n",
       "    </tr>\n",
       "    <tr>\n",
       "      <th>...</th>\n",
       "      <td>...</td>\n",
       "      <td>...</td>\n",
       "      <td>...</td>\n",
       "      <td>...</td>\n",
       "    </tr>\n",
       "    <tr>\n",
       "      <th>3813</th>\n",
       "      <td>Other neighborhoods</td>\n",
       "      <td>1</td>\n",
       "      <td>House</td>\n",
       "      <td>359.0</td>\n",
       "    </tr>\n",
       "    <tr>\n",
       "      <th>3814</th>\n",
       "      <td>Capitol Hill</td>\n",
       "      <td>2</td>\n",
       "      <td>Apartment</td>\n",
       "      <td>79.0</td>\n",
       "    </tr>\n",
       "    <tr>\n",
       "      <th>3815</th>\n",
       "      <td>Rainier Valley</td>\n",
       "      <td>0</td>\n",
       "      <td>House</td>\n",
       "      <td>93.0</td>\n",
       "    </tr>\n",
       "    <tr>\n",
       "      <th>3816</th>\n",
       "      <td>Capitol Hill</td>\n",
       "      <td>0</td>\n",
       "      <td>Condominium</td>\n",
       "      <td>99.0</td>\n",
       "    </tr>\n",
       "    <tr>\n",
       "      <th>3817</th>\n",
       "      <td>Queen Anne</td>\n",
       "      <td>0</td>\n",
       "      <td>Apartment</td>\n",
       "      <td>87.0</td>\n",
       "    </tr>\n",
       "  </tbody>\n",
       "</table>\n",
       "<p>3817 rows × 4 columns</p>\n",
       "</div>"
      ],
      "text/plain": [
       "     neighbourhood_group_cleansed  number_of_reviews property_type  price\n",
       "0                      Queen Anne                207     Apartment   85.0\n",
       "1                      Queen Anne                 43     Apartment  150.0\n",
       "2                      Queen Anne                 20         House  975.0\n",
       "3                      Queen Anne                  0     Apartment  100.0\n",
       "4                      Queen Anne                 38         House  450.0\n",
       "...                           ...                ...           ...    ...\n",
       "3813          Other neighborhoods                  1         House  359.0\n",
       "3814                 Capitol Hill                  2     Apartment   79.0\n",
       "3815               Rainier Valley                  0         House   93.0\n",
       "3816                 Capitol Hill                  0   Condominium   99.0\n",
       "3817                   Queen Anne                  0     Apartment   87.0\n",
       "\n",
       "[3817 rows x 4 columns]"
      ]
     },
     "execution_count": 345,
     "metadata": {},
     "output_type": "execute_result"
    }
   ],
   "source": [
    "drop_prop_df"
   ]
  },
  {
   "cell_type": "code",
   "execution_count": 346,
   "metadata": {},
   "outputs": [],
   "source": [
    "#Data Modelling"
   ]
  },
  {
   "cell_type": "code",
   "execution_count": 323,
   "metadata": {},
   "outputs": [],
   "source": [
    "neighbourhood_reviews = df.groupby(['neighbourhood_group_cleansed']).sum()['number_of_reviews'].sort_values()"
   ]
  },
  {
   "cell_type": "code",
   "execution_count": 328,
   "metadata": {
    "scrolled": true
   },
   "outputs": [
    {
     "data": {
      "image/png": "[encoded data removed]",
      "text/plain": [
       "<Figure size 432x288 with 1 Axes>"
      ]
     },
     "metadata": {
      "needs_background": "light"
     },
     "output_type": "display_data"
    }
   ],
   "source": [
    "neighbourhood_reviews.plot(kind=\"bar\");\n",
    "plt.title(\"Which neighbourhood is booked the most in seatle?\");"
   ]
  },
  {
   "cell_type": "markdown",
   "metadata": {},
   "source": [
    "The above graph answers our first question, showing us that downtown,Capitol Hill, Central area, Ballard and Queen ann areas are the most favourit neighbourhoods to visitors"
   ]
  },
  {
   "cell_type": "code",
   "execution_count": 322,
   "metadata": {},
   "outputs": [],
   "source": [
    "neighbourhood_price = df.groupby(['neighbourhood_group_cleansed']).mean()['price'].sort_values()"
   ]
  },
  {
   "cell_type": "code",
   "execution_count": 329,
   "metadata": {},
   "outputs": [
    {
     "data": {
      "image/png": "[encoded data removed]",
      "text/plain": [
       "<Figure size 432x288 with 1 Axes>"
      ]
     },
     "metadata": {
      "needs_background": "light"
     },
     "output_type": "display_data"
    }
   ],
   "source": [
    "neighbourhood_price.plot(kind=\"bar\");\n",
    "plt.title(\"Which neighbourhood is the most expensive in seatle?\");\n"
   ]
  },
  {
   "cell_type": "markdown",
   "metadata": {},
   "source": [
    "For the second question, we will continue on the same data we prepared for the 1st question. The following will answer which property type is mostly booked by visitors"
   ]
  },
  {
   "cell_type": "code",
   "execution_count": 347,
   "metadata": {},
   "outputs": [],
   "source": [
    "#since the data is cleaned and ready for use we will jump to modelling right away\n",
    "\n",
    "#grouping the dataframe by property type and aggregating the sum of the number of reviews which we will consider as a booking made\n",
    "property_reviews = df.groupby(['property_type']).sum()['number_of_reviews'].sort_values()"
   ]
  },
  {
   "cell_type": "code",
   "execution_count": 327,
   "metadata": {},
   "outputs": [
    {
     "data": {
      "image/png": "[encoded data removed]",
      "text/plain": [
       "<Figure size 432x288 with 1 Axes>"
      ]
     },
     "metadata": {
      "needs_background": "light"
     },
     "output_type": "display_data"
    }
   ],
   "source": [
    "property_reviews.plot(kind=\"bar\");\n",
    "plt.title(\"Which property type is booked the most in seatle?\");"
   ]
  },
  {
   "cell_type": "markdown",
   "metadata": {},
   "source": [
    "The graph above answers our second question. Visitors prefare apartments and houses mostly over any other type of property"
   ]
  },
  {
   "cell_type": "code",
   "execution_count": 325,
   "metadata": {},
   "outputs": [
    {
     "data": {
      "image/png": "[encoded data removed]",
      "text/plain": [
       "<Figure size 432x288 with 1 Axes>"
      ]
     },
     "metadata": {
      "needs_background": "light"
     },
     "output_type": "display_data"
    }
   ],
   "source": [
    "status_vals =df.neighbourhood_group_cleansed.value_counts() \n",
    "(status_vals/df.shape[0]).plot(kind=\"bar\");\n",
    "plt.title(\"Which neighbourhood has the most listings in seatle?\");"
   ]
  },
  {
   "cell_type": "code",
   "execution_count": 326,
   "metadata": {
    "scrolled": true
   },
   "outputs": [
    {
     "data": {
      "image/png": "[encoded data removed]",
      "text/plain": [
       "<Figure size 432x288 with 1 Axes>"
      ]
     },
     "metadata": {
      "needs_background": "light"
     },
     "output_type": "display_data"
    }
   ],
   "source": [
    "prop_vals =df.property_type.value_counts() \n",
    "(prop_vals/df.shape[0]).plot(kind=\"bar\");\n",
    "plt.title(\"Which property type is the most popular in seatle?\");"
   ]
  },
  {
   "cell_type": "code",
   "execution_count": null,
   "metadata": {},
   "outputs": [],
   "source": []
  }
 ],
 "metadata": {
  "kernelspec": {
   "display_name": "Python 3",
   "language": "python",
   "name": "python3"
  },
  "language_info": {
   "codemirror_mode": {
    "name": "ipython",
    "version": 3
   },
   "file_extension": ".py",
   "mimetype": "text/x-python",
   "name": "python",
   "nbconvert_exporter": "python",
   "pygments_lexer": "ipython3",
   "version": "3.8.5"
  }
 },
 "nbformat": 4,
 "nbformat_minor": 4
}
